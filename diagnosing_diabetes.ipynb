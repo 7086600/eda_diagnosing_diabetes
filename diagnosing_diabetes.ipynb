{
 "cells": [
  {
   "cell_type": "markdown",
   "id": "48aca96d-f513-499f-b5e9-bc9d89ad7432",
   "metadata": {},
   "source": [
    "# EDA: Diagnosing Diabetes"
   ]
  },
  {
   "cell_type": "markdown",
   "id": "8a93fd68-5362-4c26-ab9d-ca5e9b85e5ae",
   "metadata": {},
   "source": [
    "Exploring data that looks at how certain diagnostic factors affect the diabetes outcome of women patients.\n",
    "\n",
    "Using EDA skills to help inspect, clean, and validate the data.\n",
    "\n",
    "**Note**: This [dataset](https://www.kaggle.com/uciml/pima-indians-diabetes-database) is from the National Institute of Diabetes and Digestive and Kidney Diseases. It contains the following columns:\n",
    "\n",
    "- `Pregnancies`: Number of times pregnant\n",
    "- `Glucose`: Plasma glucose concentration per 2 hours in an oral glucose tolerance test\n",
    "- `BloodPressure`: Diastolic blood pressure\n",
    "- `SkinThickness`: Triceps skinfold thickness\n",
    "- `Insulin`: 2-Hour serum insulin\n",
    "- `BMI`: Body mass index\n",
    "- `DiabetesPedigreeFunction`: Diabetes pedigree function\n",
    "- `Age`: Age (years)\n",
    "- `Outcome`: Class variable (0 or 1)"
   ]
  },
  {
   "cell_type": "code",
   "execution_count": 12,
   "id": "ca30a717-b83d-4f88-b71b-34896e81be5a",
   "metadata": {},
   "outputs": [],
   "source": [
    "import pandas as pd\n",
    "import numpy as np"
   ]
  },
  {
   "cell_type": "code",
   "execution_count": 11,
   "id": "8fc168d5-1464-480e-b209-2b94e659ec18",
   "metadata": {},
   "outputs": [],
   "source": [
    "#2 load in data\n",
    "diabetes_data = pd.read_csv('diabetes.csv', sep=',', encoding='utf-8')"
   ]
  },
  {
   "cell_type": "code",
   "execution_count": 14,
   "id": "d74922b6-4e4b-439c-a199-eee7e65c8588",
   "metadata": {},
   "outputs": [
    {
     "name": "stdout",
     "output_type": "stream",
     "text": [
      "   Pregnancies  Glucose  BloodPressure  SkinThickness  Insulin   BMI  \\\n",
      "0            6      148             72             35        0  33.6   \n",
      "1            1       85             66             29        0  26.6   \n",
      "2            8      183             64              0        0  23.3   \n",
      "3            1       89             66             23       94  28.1   \n",
      "4            0      137             40             35      168  43.1   \n",
      "5            5      116             74              0        0  25.6   \n",
      "6            3       78             50             32       88  31.0   \n",
      "7           10      115              0              0        0  35.3   \n",
      "8            2      197             70             45      543  30.5   \n",
      "9            8      125             96              0        0   0.0   \n",
      "\n",
      "   DiabetesPedigreeFunction  Age Outcome  \n",
      "0                     0.627   50       1  \n",
      "1                     0.351   31       0  \n",
      "2                     0.672   32       1  \n",
      "3                     0.167   21       0  \n",
      "4                     2.288   33       1  \n",
      "5                     0.201   30       0  \n",
      "6                     0.248   26       1  \n",
      "7                     0.134   29       0  \n",
      "8                     0.158   53       1  \n",
      "9                     0.232   54       1  \n"
     ]
    }
   ],
   "source": [
    "# print first 10 rows \n",
    "print(diabetes_data.head(10))"
   ]
  },
  {
   "cell_type": "code",
   "execution_count": 15,
   "id": "5f617408-28fb-4076-964f-21113194c172",
   "metadata": {},
   "outputs": [
    {
     "name": "stdout",
     "output_type": "stream",
     "text": [
      "(768, 9)\n"
     ]
    }
   ],
   "source": [
    "# the numbers of rows and columns by method .shape\n",
    "print(diabetes_data.shape)"
   ]
  },
  {
   "cell_type": "code",
   "execution_count": 16,
   "id": "0833ac9b-d9fd-4459-b6a9-ec132b216848",
   "metadata": {},
   "outputs": [
    {
     "name": "stdout",
     "output_type": "stream",
     "text": [
      "Index(['Pregnancies', 'Glucose', 'BloodPressure', 'SkinThickness', 'Insulin',\n",
      "       'BMI', 'DiabetesPedigreeFunction', 'Age', 'Outcome'],\n",
      "      dtype='object')\n"
     ]
    }
   ],
   "source": [
    "# which columns are there\n",
    "print(diabetes_data.columns)"
   ]
  },
  {
   "cell_type": "code",
   "execution_count": 8,
   "id": "aab3041a-b4ca-40a1-888b-a8044e817635",
   "metadata": {},
   "outputs": [
    {
     "name": "stdout",
     "output_type": "stream",
     "text": [
      "Pregnancies                   int64\n",
      "Glucose                       int64\n",
      "BloodPressure                 int64\n",
      "SkinThickness                 int64\n",
      "Insulin                       int64\n",
      "BMI                         float64\n",
      "DiabetesPedigreeFunction    float64\n",
      "Age                           int64\n",
      "Outcome                      object\n",
      "dtype: object\n"
     ]
    }
   ],
   "source": [
    "# check columns data types by method .dtypes\n",
    "print(diabetes_data.dtypes)"
   ]
  },
  {
   "cell_type": "code",
   "execution_count": 9,
   "id": "79f364a0-abb3-42e6-9c71-f80d78708f14",
   "metadata": {},
   "outputs": [
    {
     "name": "stdout",
     "output_type": "stream",
     "text": [
      "<class 'pandas.core.frame.DataFrame'>\n",
      "RangeIndex: 768 entries, 0 to 767\n",
      "Data columns (total 9 columns):\n",
      " #   Column                    Non-Null Count  Dtype  \n",
      "---  ------                    --------------  -----  \n",
      " 0   Pregnancies               768 non-null    int64  \n",
      " 1   Glucose                   768 non-null    int64  \n",
      " 2   BloodPressure             768 non-null    int64  \n",
      " 3   SkinThickness             768 non-null    int64  \n",
      " 4   Insulin                   768 non-null    int64  \n",
      " 5   BMI                       768 non-null    float64\n",
      " 6   DiabetesPedigreeFunction  768 non-null    float64\n",
      " 7   Age                       768 non-null    int64  \n",
      " 8   Outcome                   768 non-null    object \n",
      "dtypes: float64(2), int64(6), object(1)\n",
      "memory usage: 54.1+ KB\n",
      "None\n"
     ]
    }
   ],
   "source": [
    "# check columns contain missing data\n",
    "print(diabetes_data.info())"
   ]
  },
  {
   "cell_type": "code",
   "execution_count": null,
   "id": "bf0c3daf-b1fc-4176-a206-a2cd29d3bb24",
   "metadata": {},
   "outputs": [],
   "source": []
  }
 ],
 "metadata": {
  "kernelspec": {
   "display_name": "Python 3 (ipykernel)",
   "language": "python",
   "name": "python3"
  },
  "language_info": {
   "codemirror_mode": {
    "name": "ipython",
    "version": 3
   },
   "file_extension": ".py",
   "mimetype": "text/x-python",
   "name": "python",
   "nbconvert_exporter": "python",
   "pygments_lexer": "ipython3",
   "version": "3.11.11"
  }
 },
 "nbformat": 4,
 "nbformat_minor": 5
}
